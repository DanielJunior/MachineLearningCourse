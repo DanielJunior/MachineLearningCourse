{
 "cells": [
  {
   "cell_type": "markdown",
   "metadata": {
    "slideshow": {
     "slide_type": "slide"
    }
   },
   "source": [
    "# Naive Bayes & KNN Classifiers\n",
    "\n",
    "<div style=\"text-align: right\"> \n",
    "<h3>Machine Learning - PPG IC-UFF 2017.1</h3>\n",
    "<h4>Daniel Junior</h4>\n",
    "</div>"
   ]
  },
  {
   "cell_type": "code",
   "execution_count": 59,
   "metadata": {
    "collapsed": false,
    "slideshow": {
     "slide_type": "skip"
    }
   },
   "outputs": [],
   "source": [
    "from sklearn.datasets import load_iris\n",
    "import matplotlib.pyplot as plt\n",
    "import numpy as np\n",
    "import math\n",
    "import itertools\n",
    "from collections import Counter\n",
    "from operator import itemgetter\n",
    "from scipy.stats import multivariate_normal as mvn\n",
    "from sklearn.model_selection import StratifiedKFold\n",
    "from sklearn.model_selection import train_test_split\n",
    "from sklearn.metrics import confusion_matrix\n",
    "from sklearn.metrics import accuracy_score\n",
    "from sklearn.metrics import recall_score\n",
    "from sklearn.metrics import f1_score\n",
    "from sklearn.metrics import precision_score\n",
    "\n",
    "iris = load_iris()\n",
    "X = iris.data\n",
    "y = iris.target"
   ]
  },
  {
   "cell_type": "markdown",
   "metadata": {
    "slideshow": {
     "slide_type": "slide"
    }
   },
   "source": [
    "## 1 - Naive Bayes"
   ]
  },
  {
   "cell_type": "code",
   "execution_count": 60,
   "metadata": {
    "collapsed": false
   },
   "outputs": [],
   "source": [
    "class NaiveBayes():\n",
    "    def __init__(self, params=None):\n",
    "        'If params is None the method is initialized with default values.'\n",
    "        pass\n",
    "    \n",
    "    def predict(self,X):\n",
    "        classes_gaussians = len(self.gaussians)\n",
    "        examples, features_number = X.shape\n",
    "        probabilities = np.zeros((examples,classes_gaussians))\n",
    "\n",
    "        for cls,gaussian in self.gaussians.items():\n",
    "            mean, var = gaussian['mean'], gaussian['var']\n",
    "            probabilities[:,cls] = mvn.pdf(X, mean=mean, cov=var) * self.classes_prior_probs[cls]\n",
    "        return np.argmax(probabilities, axis=1)\n",
    "    \n",
    "    def learn(self,X,y):\n",
    "        classes = set(y)\n",
    "        self.gaussians = {}\n",
    "        self.classes_prior_probs = {}\n",
    "        for label in classes:\n",
    "            evidence = X[y == label]\n",
    "            self.gaussians[label] = {\n",
    "                'mean': evidence.mean(axis=0),\n",
    "                'var': evidence.var(axis=0)\n",
    "            }\n",
    "            self.classes_prior_probs[label] = (len(y[y==label])/len(y))\n"
   ]
  },
  {
   "cell_type": "code",
   "execution_count": 61,
   "metadata": {
    "collapsed": false,
    "slideshow": {
     "slide_type": "skip"
    }
   },
   "outputs": [],
   "source": [
    "nb = NaiveBayes()\n",
    "\n",
    "skf = StratifiedKFold(n_splits=10)\n",
    "acc_scores = []\n",
    "recall_scores = []\n",
    "f1_scores = []\n",
    "precision_scores = []\n",
    "for train, test in skf.split(X, y):\n",
    "    nb.learn(X[train], y[train])\n",
    "    y_pred = nb.predict(X[test])\n",
    "    acc_scores.append(accuracy_score(y[test], y_pred))\n",
    "    recall_scores.append(recall_score(y[test], y_pred, average='micro'))\n",
    "    f1_scores.append(f1_score(y[test], y_pred, average='micro'))\n",
    "    precision_scores.append(precision_score(y[test], y_pred, average='micro'))"
   ]
  },
  {
   "cell_type": "markdown",
   "metadata": {
    "slideshow": {
     "slide_type": "slide"
    }
   },
   "source": [
    "### Metrics"
   ]
  },
  {
   "cell_type": "code",
   "execution_count": 62,
   "metadata": {
    "collapsed": false
   },
   "outputs": [
    {
     "name": "stdout",
     "output_type": "stream",
     "text": [
      "Cross-Validation\n",
      "\n",
      "Mean Accuracy: 95.3333333333\n",
      "Standard deviation accuracy: 0.0426874949162\n",
      "Mean Recall: 95.3333333333\n",
      "Standard deviation accuracy: 0.0426874949162\n",
      "Mean F1-Score: 95.3333333333\n",
      "Standard deviation accuracy: 0.0426874949162\n",
      "Mean Precision: 95.3333333333\n",
      "Standard deviation accuracy: 0.0426874949162\n"
     ]
    }
   ],
   "source": [
    "print(\"Cross-Validation\\n\")\n",
    "print(\"Mean Accuracy: %s\" % (np.mean(acc_scores) * 100))\n",
    "print(\"Standard deviation accuracy: %s\" %  np.array(acc_scores).std())\n",
    "print(\"Mean Recall: %s\" % (np.mean(recall_scores) * 100))\n",
    "print(\"Standard deviation accuracy: %s\" %  np.array(recall_scores).std())\n",
    "print(\"Mean F1-Score: %s\" % (np.mean(f1_scores) * 100))\n",
    "print(\"Standard deviation accuracy: %s\" %  np.array(f1_scores).std())\n",
    "print(\"Mean Precision: %s\" % (np.mean(precision_scores) * 100))\n",
    "print(\"Standard deviation accuracy: %s\" %  np.array(precision_scores).std())"
   ]
  },
  {
   "cell_type": "markdown",
   "metadata": {
    "slideshow": {
     "slide_type": "slide"
    }
   },
   "source": [
    "### Visualization"
   ]
  },
  {
   "cell_type": "code",
   "execution_count": 63,
   "metadata": {
    "collapsed": false
   },
   "outputs": [
    {
     "data": {
      "image/png": "[encoded data removed]",
      "text/plain": [
       "<matplotlib.figure.Figure at 0x7f27d8482b70>"
      ]
     },
     "metadata": {},
     "output_type": "display_data"
    }
   ],
   "source": [
    "X_train, X_test, y_train, y_test = train_test_split(X, y, random_state=42)\n",
    "nb.learn(X_train,y_train)\n",
    "y_pred = nb.predict(X_test)\n",
    "\n",
    "cnf_matrix = confusion_matrix(y_test, y_pred)\n",
    "\n",
    "\n",
    "plt.figure()\n",
    "\n",
    "plt.imshow(cnf_matrix, interpolation='nearest', cmap=plt.cm.Blues)\n",
    "plt.title(\"Confusion Matrix\")\n",
    "plt.colorbar()\n",
    "tick_marks = np.arange(len(set(y)))\n",
    "plt.xticks(tick_marks, set(y), rotation=45)\n",
    "plt.yticks(tick_marks, set(y))\n",
    "\n",
    "thresh = cnf_matrix.max() / 2.\n",
    "for i, j in itertools.product(range(cnf_matrix.shape[0]), range(cnf_matrix.shape[1])):\n",
    "    plt.text(j, i, cnf_matrix[i, j],\n",
    "             horizontalalignment=\"center\",\n",
    "             color=\"white\" if cnf_matrix[i, j] > thresh else \"black\")\n",
    "\n",
    "plt.tight_layout()\n",
    "plt.ylabel('True label')\n",
    "plt.xlabel('Predicted label')\n",
    "plt.show()"
   ]
  },
  {
   "cell_type": "markdown",
   "metadata": {
    "slideshow": {
     "slide_type": "slide"
    }
   },
   "source": [
    "## 2 - KNN"
   ]
  },
  {
   "cell_type": "code",
   "execution_count": 64,
   "metadata": {
    "collapsed": true,
    "slideshow": {
     "slide_type": "-"
    }
   },
   "outputs": [],
   "source": [
    "class KNN():\n",
    "    def __init__(self, params=None):\n",
    "        self.K = params['k']\n",
    "        'If params is None the method is initialized with default values.'\n",
    "        pass\n",
    "    \n",
    "    def predict(self,X):\n",
    "        if X.ndim > 1:\n",
    "            resp = np.array([])\n",
    "            for x in X:\n",
    "                neighbours = self.getNeighbors(self.training_set,x,self.K)\n",
    "                classes = [neighbour[0][1] for neighbour in neighbours]\n",
    "                count = Counter(classes)\n",
    "                resp = np.append(resp,count.most_common()[0][0])\n",
    "            return resp\n",
    "        else:\n",
    "            neighbours = self.getNeighbors(self.training_set,X,self.K)\n",
    "            classes = [neighbour[0][1] for neighbour in neighbours]\n",
    "            count = Counter(classes)\n",
    "            return count.most_common()[0][0]\n",
    "    \n",
    "    def predict_instance(self, x):\n",
    "        neighbours = self.getNeighbors(self.training_set,X,self.K)\n",
    "        classes = [neighbour[0][1] for neighbour in neighbours]\n",
    "        count = Counter(classes)\n",
    "        return count.most_common()[0][0]\n",
    "    \n",
    "    \n",
    "    def learn(self,X,y):\n",
    "        self.training_set = np.array(list(zip(X,y)))\n",
    "        \n",
    "    \n",
    "    def euclidean_distance(self,instance1, instance2, length = 2):\n",
    "        distance = 0\n",
    "        for x in range(length):\n",
    "            distance += pow((instance1[x] - instance2[x]), length)\n",
    "        return math.sqrt(distance)\n",
    "    \n",
    "    def manhatan_distance(self,instance1, instance2, length = 2):\n",
    "        \n",
    "    \n",
    "    def _get_tuple_distance(self,training_instance, test_instance):\n",
    "        return (training_instance, self.euclidean_distance(test_instance, training_instance[0],2))\n",
    "\n",
    "    def getNeighbors(self,training_set, test_instance, k):\n",
    "        #from IPython.core.debugger import Tracer; Tracer()()\n",
    "        distances = [self._get_tuple_distance(training_instance, test_instance) for training_instance in training_set]\n",
    "        distances = sorted(distances,key=itemgetter(1))\n",
    "        return distances[:k]"
   ]
  },
  {
   "cell_type": "code",
   "execution_count": 65,
   "metadata": {
    "collapsed": false,
    "slideshow": {
     "slide_type": "skip"
    }
   },
   "outputs": [],
   "source": [
    "knn = KNN(params={'k':5})\n",
    "#knn.learn(X,y)\n",
    "#knn.predict(X)\n",
    "\n",
    "\n",
    "skf = StratifiedKFold(n_splits=10)\n",
    "acc_scores = []\n",
    "recall_scores = []\n",
    "f1_scores = []\n",
    "precision_scores = []\n",
    "for train, test in skf.split(X, y):\n",
    "    knn.learn(X[train], y[train])\n",
    "    y_pred = knn.predict(X[test])\n",
    "    acc_scores.append(accuracy_score(y[test], y_pred))\n",
    "    recall_scores.append(recall_score(y[test], y_pred, average='micro'))\n",
    "    f1_scores.append(f1_score(y[test], y_pred, average='micro'))\n",
    "    precision_scores.append(precision_score(y[test], y_pred, average='micro'))"
   ]
  },
  {
   "cell_type": "markdown",
   "metadata": {},
   "source": [
    "### Metrics"
   ]
  },
  {
   "cell_type": "code",
   "execution_count": 66,
   "metadata": {
    "collapsed": false
   },
   "outputs": [
    {
     "name": "stdout",
     "output_type": "stream",
     "text": [
      "Cross-Validation\n",
      "\n",
      "Mean Accuracy: 74.0\n",
      "Standard deviation accuracy: 0.0813770374382\n",
      "Mean Recall: 74.0\n",
      "Standard deviation accuracy: 0.0813770374382\n",
      "Mean F1-Score: 74.0\n",
      "Standard deviation accuracy: 0.0813770374382\n",
      "Mean Precision: 74.0\n",
      "Standard deviation accuracy: 0.0813770374382\n"
     ]
    }
   ],
   "source": [
    "print(\"Cross-Validation\\n\")\n",
    "print(\"Mean Accuracy: %s\" % (np.mean(acc_scores) * 100))\n",
    "print(\"Standard deviation accuracy: %s\" %  np.array(acc_scores).std())\n",
    "print(\"Mean Recall: %s\" % (np.mean(recall_scores) * 100))\n",
    "print(\"Standard deviation accuracy: %s\" %  np.array(recall_scores).std())\n",
    "print(\"Mean F1-Score: %s\" % (np.mean(f1_scores) * 100))\n",
    "print(\"Standard deviation accuracy: %s\" %  np.array(f1_scores).std())\n",
    "print(\"Mean Precision: %s\" % (np.mean(precision_scores) * 100))\n",
    "print(\"Standard deviation accuracy: %s\" %  np.array(precision_scores).std())"
   ]
  },
  {
   "cell_type": "markdown",
   "metadata": {},
   "source": [
    "### Visualization"
   ]
  },
  {
   "cell_type": "code",
   "execution_count": 67,
   "metadata": {
    "collapsed": false
   },
   "outputs": [],
   "source": [
    "ks = []\n",
    "accs = []\n",
    "for k in range(1,11):\n",
    "    knn = KNN(params={'k':k})\n",
    "\n",
    "    skf = StratifiedKFold(n_splits=10)\n",
    "    acc_scores = []\n",
    "    recall_scores = []\n",
    "    f1_scores = []\n",
    "    precision_scores = []\n",
    "    for train, test in skf.split(X, y):\n",
    "        knn.learn(X[train], y[train])\n",
    "        y_pred = knn.predict(X[test])\n",
    "        acc_scores.append(accuracy_score(y[test], y_pred))\n",
    "        recall_scores.append(recall_score(y[test], y_pred, average='micro'))\n",
    "        f1_scores.append(f1_score(y[test], y_pred, average='micro'))\n",
    "        precision_scores.append(precision_score(y[test], y_pred, average='micro'))\n",
    "    ks.append(k)\n",
    "    accs.append((np.mean(acc_scores) * 100))"
   ]
  },
  {
   "cell_type": "code",
   "execution_count": 68,
   "metadata": {
    "collapsed": false
   },
   "outputs": [
    {
     "data": {
      "image/png": "[encoded data removed]",
      "text/plain": [
       "<matplotlib.figure.Figure at 0x7f27d8b536a0>"
      ]
     },
     "metadata": {},
     "output_type": "display_data"
    }
   ],
   "source": [
    "f, subplots = plt.subplots(1, 2)\n",
    "\n",
    "subplots[0].set_title(\"Euclidian Distance\")\n",
    "subplots[0].plot(ks, accs)\n",
    "subplots[0].set_ylabel('Mean Accuracy')\n",
    "subplots[0].set_xlabel('K')\n",
    "\n",
    "subplots[1].set_title(\"Manhatan Distance\")\n",
    "subplots[1].plot(ks, accs)\n",
    "subplots[1].set_ylabel('Mean Accuracy')\n",
    "subplots[1].set_xlabel('K')\n",
    "\n",
    "plt.tight_layout()\n",
    "plt.show()"
   ]
  }
 ],
 "metadata": {
  "celltoolbar": "Slideshow",
  "kernelspec": {
   "display_name": "Python 3",
   "language": "python",
   "name": "python3"
  },
  "language_info": {
   "codemirror_mode": {
    "name": "ipython",
    "version": 3
   },
   "file_extension": ".py",
   "mimetype": "text/x-python",
   "name": "python",
   "nbconvert_exporter": "python",
   "pygments_lexer": "ipython3",
   "version": "3.6.0"
  }
 },
 "nbformat": 4,
 "nbformat_minor": 2
}
