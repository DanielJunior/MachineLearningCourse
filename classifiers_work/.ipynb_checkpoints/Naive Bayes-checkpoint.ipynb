{
 "cells": [
  {
   "cell_type": "markdown",
   "metadata": {},
   "source": [
    "### Machine Learning - PPG IC-UFF 2017.1\n",
    "# Naive Bayes & KNN"
   ]
  },
  {
   "cell_type": "code",
   "execution_count": 5,
   "metadata": {
    "collapsed": false
   },
   "outputs": [],
   "source": [
    "from sklearn.datasets import load_iris\n",
    "import matplotlib.pyplot as plt\n",
    "import numpy as np\n",
    "import math\n",
    "import itertools\n",
    "from collections import Counter\n",
    "from operator import itemgetter\n",
    "from scipy.stats import multivariate_normal as mvn\n",
    "from sklearn.model_selection import StratifiedKFold\n",
    "from sklearn.model_selection import train_test_split\n",
    "from sklearn.metrics import confusion_matrix\n",
    "from sklearn.metrics import accuracy_score\n",
    "from sklearn.metrics import recall_score\n",
    "from sklearn.metrics import f1_score\n",
    "from sklearn.metrics import precision_score\n",
    "\n",
    "iris = load_iris()\n",
    "X = iris.data\n",
    "y = iris.target"
   ]
  },
  {
   "cell_type": "markdown",
   "metadata": {},
   "source": [
    "## 1 - Naive Bayes"
   ]
  },
  {
   "cell_type": "code",
   "execution_count": 6,
   "metadata": {
    "collapsed": false
   },
   "outputs": [],
   "source": [
    "class NaiveBayes():\n",
    "    def __init__(self, params=None):\n",
    "        'If params is None the method is initialized with default values.'\n",
    "        pass\n",
    "    \n",
    "    def predict(self,X):\n",
    "        classes_gaussians = len(gaussians)\n",
    "        examples, features_number = X.shape\n",
    "        probabilities = np.zeros((examples,classes_gaussians))\n",
    "\n",
    "        for cls,gaussian in gaussians.items():\n",
    "            mean, var = gaussian['mean'], gaussian['var']\n",
    "            probabilities[:,cls] = mvn.pdf(X, mean=mean, cov=var) * classes_prior_probs[cls]\n",
    "        return np.argmax(probabilities, axis=1)\n",
    "    \n",
    "    def learn(self,X,y):\n",
    "        classes = set(y)\n",
    "        self.gaussians = {}\n",
    "        self.classes_prior_probs = {}\n",
    "        for label in classes:\n",
    "            evidence = X[y == label]\n",
    "            self.gaussians[label] = {\n",
    "                'mean': evidence.mean(axis=0),\n",
    "                'var': evidence.var(axis=0)\n",
    "            }\n",
    "            classes_prior_probs[label] = (len(y[y==label])/len(y))\n"
   ]
  },
  {
   "cell_type": "code",
   "execution_count": 7,
   "metadata": {
    "collapsed": false
   },
   "outputs": [
    {
     "ename": "NameError",
     "evalue": "name 'classes_prior_probs' is not defined",
     "output_type": "error",
     "traceback": [
      "\u001b[0;31m---------------------------------------------------------------------------\u001b[0m",
      "\u001b[0;31mNameError\u001b[0m                                 Traceback (most recent call last)",
      "\u001b[0;32m<ipython-input-7-574c1e2222c7>\u001b[0m in \u001b[0;36m<module>\u001b[0;34m()\u001b[0m\n\u001b[1;32m      7\u001b[0m \u001b[0mprecision_scores\u001b[0m \u001b[0;34m=\u001b[0m \u001b[0;34m[\u001b[0m\u001b[0;34m]\u001b[0m\u001b[0;34m\u001b[0m\u001b[0m\n\u001b[1;32m      8\u001b[0m \u001b[0;32mfor\u001b[0m \u001b[0mtrain\u001b[0m\u001b[0;34m,\u001b[0m \u001b[0mtest\u001b[0m \u001b[0;32min\u001b[0m \u001b[0mskf\u001b[0m\u001b[0;34m.\u001b[0m\u001b[0msplit\u001b[0m\u001b[0;34m(\u001b[0m\u001b[0mX\u001b[0m\u001b[0;34m,\u001b[0m \u001b[0my\u001b[0m\u001b[0;34m)\u001b[0m\u001b[0;34m:\u001b[0m\u001b[0;34m\u001b[0m\u001b[0m\n\u001b[0;32m----> 9\u001b[0;31m     \u001b[0mnb\u001b[0m\u001b[0;34m.\u001b[0m\u001b[0mlearn\u001b[0m\u001b[0;34m(\u001b[0m\u001b[0mX\u001b[0m\u001b[0;34m[\u001b[0m\u001b[0mtrain\u001b[0m\u001b[0;34m]\u001b[0m\u001b[0;34m,\u001b[0m \u001b[0my\u001b[0m\u001b[0;34m[\u001b[0m\u001b[0mtrain\u001b[0m\u001b[0;34m]\u001b[0m\u001b[0;34m)\u001b[0m\u001b[0;34m\u001b[0m\u001b[0m\n\u001b[0m\u001b[1;32m     10\u001b[0m     \u001b[0my_pred\u001b[0m \u001b[0;34m=\u001b[0m \u001b[0mnb\u001b[0m\u001b[0;34m.\u001b[0m\u001b[0mpredict\u001b[0m\u001b[0;34m(\u001b[0m\u001b[0mX\u001b[0m\u001b[0;34m[\u001b[0m\u001b[0mtest\u001b[0m\u001b[0;34m]\u001b[0m\u001b[0;34m)\u001b[0m\u001b[0;34m\u001b[0m\u001b[0m\n\u001b[1;32m     11\u001b[0m     \u001b[0macc_scores\u001b[0m\u001b[0;34m.\u001b[0m\u001b[0mappend\u001b[0m\u001b[0;34m(\u001b[0m\u001b[0maccuracy_score\u001b[0m\u001b[0;34m(\u001b[0m\u001b[0my\u001b[0m\u001b[0;34m[\u001b[0m\u001b[0mtest\u001b[0m\u001b[0;34m]\u001b[0m\u001b[0;34m,\u001b[0m \u001b[0my_pred\u001b[0m\u001b[0;34m)\u001b[0m\u001b[0;34m)\u001b[0m\u001b[0;34m\u001b[0m\u001b[0m\n",
      "\u001b[0;32m<ipython-input-6-e76a7b882a5a>\u001b[0m in \u001b[0;36mlearn\u001b[0;34m(self, X, y)\u001b[0m\n\u001b[1;32m     24\u001b[0m                 \u001b[0;34m'var'\u001b[0m\u001b[0;34m:\u001b[0m \u001b[0mevidence\u001b[0m\u001b[0;34m.\u001b[0m\u001b[0mvar\u001b[0m\u001b[0;34m(\u001b[0m\u001b[0maxis\u001b[0m\u001b[0;34m=\u001b[0m\u001b[0;36m0\u001b[0m\u001b[0;34m)\u001b[0m\u001b[0;34m\u001b[0m\u001b[0m\n\u001b[1;32m     25\u001b[0m             }\n\u001b[0;32m---> 26\u001b[0;31m             \u001b[0mclasses_prior_probs\u001b[0m\u001b[0;34m[\u001b[0m\u001b[0mlabel\u001b[0m\u001b[0;34m]\u001b[0m \u001b[0;34m=\u001b[0m \u001b[0;34m(\u001b[0m\u001b[0mlen\u001b[0m\u001b[0;34m(\u001b[0m\u001b[0my\u001b[0m\u001b[0;34m[\u001b[0m\u001b[0my\u001b[0m\u001b[0;34m==\u001b[0m\u001b[0mlabel\u001b[0m\u001b[0;34m]\u001b[0m\u001b[0;34m)\u001b[0m\u001b[0;34m/\u001b[0m\u001b[0mlen\u001b[0m\u001b[0;34m(\u001b[0m\u001b[0my\u001b[0m\u001b[0;34m)\u001b[0m\u001b[0;34m)\u001b[0m\u001b[0;34m\u001b[0m\u001b[0m\n\u001b[0m",
      "\u001b[0;31mNameError\u001b[0m: name 'classes_prior_probs' is not defined"
     ]
    }
   ],
   "source": [
    "nb = NaiveBayes()\n",
    "\n",
    "skf = StratifiedKFold(n_splits=10)\n",
    "acc_scores = []\n",
    "recall_scores = []\n",
    "f1_scores = []\n",
    "precision_scores = []\n",
    "for train, test in skf.split(X, y):\n",
    "    nb.learn(X[train], y[train])\n",
    "    y_pred = nb.predict(X[test])\n",
    "    acc_scores.append(accuracy_score(y[test], y_pred))\n",
    "    recall_scores.append(recall_score(y[test], y_pred, average='micro'))\n",
    "    f1_scores.append(f1_score(y[test], y_pred, average='micro'))\n",
    "    precision_scores.append(precision_score(y[test], y_pred, average='micro'))\n",
    "\n",
    "print(\"Cross-Validation\\n\")\n",
    "print(\"Mean Accuracy: %s\" % (np.mean(acc_scores) * 100))\n",
    "print(\"Standard deviation accuracy: %s\" %  np.array(acc_scores).std())\n",
    "print(\"Mean Recall: %s\" % (np.mean(recall_scores) * 100))\n",
    "print(\"Standard deviation accuracy: %s\" %  np.array(recall_scores).std())\n",
    "print(\"Mean F1-Score: %s\" % (np.mean(f1_scores) * 100))\n",
    "print(\"Standard deviation accuracy: %s\" %  np.array(f1_scores).std())\n",
    "print(\"Mean Precision: %s\" % (np.mean(precision_scores) * 100))\n",
    "print(\"Standard deviation accuracy: %s\" %  np.array(precision_scores).std())\n",
    "\n",
    "\n",
    "X_train, X_test, y_train, y_test = train_test_split(X, y, random_state=42)\n",
    "nb.learn(X_train,y_train)\n",
    "y_pred = nb.predict(X_test)\n",
    "\n",
    "cnf_matrix = confusion_matrix(y_test, y_pred)\n",
    "\n",
    "\n",
    "plt.figure()\n",
    "\n",
    "plt.imshow(cnf_matrix, interpolation='nearest', cmap=plt.cm.Blues)\n",
    "plt.title(\"Confusion Matrix\")\n",
    "plt.colorbar()\n",
    "tick_marks = np.arange(len(set(y)))\n",
    "plt.xticks(tick_marks, set(y), rotation=45)\n",
    "plt.yticks(tick_marks, set(y))\n",
    "\n",
    "thresh = cnf_matrix.max() / 2.\n",
    "for i, j in itertools.product(range(cnf_matrix.shape[0]), range(cnf_matrix.shape[1])):\n",
    "    plt.text(j, i, cnf_matrix[i, j],\n",
    "             horizontalalignment=\"center\",\n",
    "             color=\"white\" if cnf_matrix[i, j] > thresh else \"black\")\n",
    "\n",
    "plt.tight_layout()\n",
    "plt.ylabel('True label')\n",
    "plt.xlabel('Predicted label')\n",
    "plt.show()"
   ]
  },
  {
   "cell_type": "markdown",
   "metadata": {},
   "source": [
    "## 2 - KNN"
   ]
  },
  {
   "cell_type": "code",
   "execution_count": 10,
   "metadata": {
    "collapsed": true
   },
   "outputs": [],
   "source": [
    "class KNN():\n",
    "    def __init__(self, params=None):\n",
    "        self.K = params['k']\n",
    "        'If params is None the method is initialized with default values.'\n",
    "        pass\n",
    "    \n",
    "    def predict(self,X):\n",
    "        if isinstance(X[0],np.ndarray):\n",
    "            resp = list()\n",
    "            for x in X:\n",
    "                resp.append(predict_instance(x))\n",
    "            return resp\n",
    "        else:\n",
    "            predict_instance(X)\n",
    "    \n",
    "    def predict_instance(self,x):\n",
    "        neighbours = getNeighbors(self.training_set,X,self.K)\n",
    "        classes = [neighbour[0][1] for neighbour in neighbours]\n",
    "        count = Counter(classes)\n",
    "        return count.most_common()[0][0]\n",
    "    \n",
    "    \n",
    "    def learn(self,X,y):\n",
    "        self.training_set = np.array(list(zip(X,y)))\n",
    "    \n",
    "    def euclidean_distance(instance1, instance2, length = 2):\n",
    "        distance = 0\n",
    "        for x in range(length):\n",
    "            distance += pow((instance1[x] - instance2[x]), length)\n",
    "        return math.sqrt(distance)\n",
    "    \n",
    "    def _get_tuple_distance(training_instance, test_instance):\n",
    "        return (training_instance, euclidean_distance(test_instance, training_instance[0],2))\n",
    "\n",
    "    def getNeighbors(training_set, test_instance, k):\n",
    "        distances = [_get_tuple_distance(training_instance, test_instance) for training_instance in training_set]\n",
    "        distances = sorted(distances,key=itemgetter(1))\n",
    "        return distances[:k]"
   ]
  },
  {
   "cell_type": "code",
   "execution_count": 11,
   "metadata": {
    "collapsed": false
   },
   "outputs": [
    {
     "ename": "NameError",
     "evalue": "name 'predict_instance' is not defined",
     "output_type": "error",
     "traceback": [
      "\u001b[0;31m---------------------------------------------------------------------------\u001b[0m",
      "\u001b[0;31mNameError\u001b[0m                                 Traceback (most recent call last)",
      "\u001b[0;32m<ipython-input-11-9127bbbc9dae>\u001b[0m in \u001b[0;36m<module>\u001b[0;34m()\u001b[0m\n\u001b[1;32m      1\u001b[0m \u001b[0mknn\u001b[0m \u001b[0;34m=\u001b[0m \u001b[0mKNN\u001b[0m\u001b[0;34m(\u001b[0m\u001b[0mparams\u001b[0m\u001b[0;34m=\u001b[0m\u001b[0;34m{\u001b[0m\u001b[0;34m'k'\u001b[0m\u001b[0;34m:\u001b[0m\u001b[0;36m5\u001b[0m\u001b[0;34m}\u001b[0m\u001b[0;34m)\u001b[0m\u001b[0;34m\u001b[0m\u001b[0m\n\u001b[1;32m      2\u001b[0m \u001b[0mknn\u001b[0m\u001b[0;34m.\u001b[0m\u001b[0mlearn\u001b[0m\u001b[0;34m(\u001b[0m\u001b[0mX\u001b[0m\u001b[0;34m,\u001b[0m\u001b[0my\u001b[0m\u001b[0;34m)\u001b[0m\u001b[0;34m\u001b[0m\u001b[0m\n\u001b[0;32m----> 3\u001b[0;31m \u001b[0mknn\u001b[0m\u001b[0;34m.\u001b[0m\u001b[0mpredict\u001b[0m\u001b[0;34m(\u001b[0m\u001b[0mX\u001b[0m\u001b[0;34m[\u001b[0m\u001b[0;36m0\u001b[0m\u001b[0;34m]\u001b[0m\u001b[0;34m)\u001b[0m\u001b[0;34m\u001b[0m\u001b[0m\n\u001b[0m\u001b[1;32m      4\u001b[0m \u001b[0;34m\u001b[0m\u001b[0m\n\u001b[1;32m      5\u001b[0m \u001b[0mtype\u001b[0m\u001b[0;34m(\u001b[0m\u001b[0mX\u001b[0m\u001b[0;34m)\u001b[0m\u001b[0;34m\u001b[0m\u001b[0m\n",
      "\u001b[0;32m<ipython-input-10-58f3a3ab2922>\u001b[0m in \u001b[0;36mpredict\u001b[0;34m(self, X)\u001b[0m\n\u001b[1;32m     12\u001b[0m             \u001b[0;32mreturn\u001b[0m \u001b[0mresp\u001b[0m\u001b[0;34m\u001b[0m\u001b[0m\n\u001b[1;32m     13\u001b[0m         \u001b[0;32melse\u001b[0m\u001b[0;34m:\u001b[0m\u001b[0;34m\u001b[0m\u001b[0m\n\u001b[0;32m---> 14\u001b[0;31m             \u001b[0mpredict_instance\u001b[0m\u001b[0;34m(\u001b[0m\u001b[0mX\u001b[0m\u001b[0;34m)\u001b[0m\u001b[0;34m\u001b[0m\u001b[0m\n\u001b[0m\u001b[1;32m     15\u001b[0m \u001b[0;34m\u001b[0m\u001b[0m\n\u001b[1;32m     16\u001b[0m     \u001b[0;32mdef\u001b[0m \u001b[0mpredict_instance\u001b[0m\u001b[0;34m(\u001b[0m\u001b[0mself\u001b[0m\u001b[0;34m,\u001b[0m\u001b[0mx\u001b[0m\u001b[0;34m)\u001b[0m\u001b[0;34m:\u001b[0m\u001b[0;34m\u001b[0m\u001b[0m\n",
      "\u001b[0;31mNameError\u001b[0m: name 'predict_instance' is not defined"
     ]
    }
   ],
   "source": [
    "knn = KNN(params={'k':5})\n",
    "knn.learn(X,y)\n",
    "knn.predict(X[0])\n",
    "\n",
    "type(X)\n",
    "isinstance(X[0],np.ndarray)"
   ]
  }
 ],
 "metadata": {
  "kernelspec": {
   "display_name": "Python 3",
   "language": "python",
   "name": "python3"
  },
  "language_info": {
   "codemirror_mode": {
    "name": "ipython",
    "version": 3
   },
   "file_extension": ".py",
   "mimetype": "text/x-python",
   "name": "python",
   "nbconvert_exporter": "python",
   "pygments_lexer": "ipython3",
   "version": "3.6.0"
  }
 },
 "nbformat": 4,
 "nbformat_minor": 2
}
