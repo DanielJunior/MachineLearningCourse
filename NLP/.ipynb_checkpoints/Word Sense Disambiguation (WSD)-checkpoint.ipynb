{
 "cells": [
  {
   "cell_type": "markdown",
   "metadata": {
    "slideshow": {
     "slide_type": "slide"
    }
   },
   "source": [
    "# Processamento de Linguagem Natural usando Aprendizado de Máquina"
   ]
  },
  {
   "cell_type": "markdown",
   "metadata": {
    "slideshow": {
     "slide_type": "-"
    }
   },
   "source": [
    "<div style='float:right;'>\n",
    "<h3>Daniel Junior</h3>\n",
    "<h4>PPG - IC/UFF</h4>\n",
    "</div>"
   ]
  },
  {
   "cell_type": "markdown",
   "metadata": {
    "slideshow": {
     "slide_type": "slide"
    }
   },
   "source": [
    "## Introdução\n",
    "\n",
    "A área de pesquisa em <i>Natural Language Processing</i> surgiu da interseção de áreas como Inteligência Artificial e Linguística.\n",
    "Até o momento, os pesquisadores dessa área precisam ser multi-disciplinares."
   ]
  },
  {
   "cell_type": "markdown",
   "metadata": {
    "slideshow": {
     "slide_type": "fragment"
    }
   },
   "source": [
    "Uma primeira abordagem para os problemas de NLP, foi utilizar os resultados obtidos em Análise de Gramáticas de Linguagens, como os obtidos por Chomsky's."
   ]
  },
  {
   "cell_type": "markdown",
   "metadata": {
    "slideshow": {
     "slide_type": "slide"
    }
   },
   "source": [
    "## Introdução\n",
    "\n",
    "<p>Porém, o uso dessas técnicas se torna proibitivo, uma vez que necessitam de especificação de regras de forma manual.</p> \n",
    "<p>Ainda considerando, por exemplo, os diversos idiomas e regras sintáticas e semânticas associadas, é inviável escalar utilizando somente este tipo de abordagem.</p>\n"
   ]
  },
  {
   "cell_type": "markdown",
   "metadata": {
    "slideshow": {
     "slide_type": "slide"
    }
   },
   "source": [
    "## Sub-problemas em NLP \n",
    "\n",
    "<p>Os problemas mais comuns tratados (Totalmente ou parcialmente) por NLP são listados a seguir:</p>\n",
    "\n",
    "<ul>\n",
    "<li><strong>Detecção de limites de sentenças <i>(Sentence boundary detection)</i></strong></li>\n",
    "<li><strong>Tokenização</strong></li>\n",
    "<li><strong>Reconhecimento de entidades nomeadas <i>(Named entity recognition)</i></strong></li>\n",
    "<li><strong>Desambiguação de sentido das palavras <i>(WSD)</i></strong></li>\n",
    "<li><strong>Extração de Relacionamentos</strong></li>\n",
    "<li><strong>Extração de Informação</strong></li>\n",
    "\n",
    "</ul>"
   ]
  },
  {
   "cell_type": "markdown",
   "metadata": {
    "slideshow": {
     "slide_type": "slide"
    }
   },
   "source": [
    "## Aprendizado de Máquina em NLP\n",
    "\n",
    "<p>Como dito anteriormente, utilizar uma abordagem puramente baseada em gramáticas é inviável devido a necessidade de se especificar regras manualmente, e que podem mudar drasticamente dependendo do contexto.</p>\n",
    "<p>Porém, pode-se lançar mão da imensa massa de dados que é gerada todo o tempo para automatizar a execução de tarefas realizadas pelo NLP.</p>\n",
    "<p>A fim de comprovar a aplicabilidade do Aprendizado de Máquina na área de NLP, tomamos como base o problema de <i>Desambiguação de sentido das palavras</i> (WSD).</p>\n"
   ]
  },
  {
   "cell_type": "markdown",
   "metadata": {
    "slideshow": {
     "slide_type": "slide"
    }
   },
   "source": [
    "<h2><i>Word Sense Disambiguation</i></h2>\n",
    "\n",
    "<p>Uma mesma palavra pode ter diferentes significados, dependendo do contexto no qual esteja inserido.</p>\n",
    "<p>Por exemplo, a palavra <i>line</i> em inglês, pode ter o sentido de: <i>cordão</i>, <i>divisão</i>, <i>formação</i>, <i>telefone</i>, <i>produção</i> e <i>textual</i>.  </p>\n"
   ]
  },
  {
   "cell_type": "markdown",
   "metadata": {
    "slideshow": {
     "slide_type": "slide"
    }
   },
   "source": [
    "## WSD\n",
    "<p>Sendo assim, um problema de WSD consiste em:</p>\n",
    "<ul>\n",
    "<li>Dado uma palavra em um contexto.</li>\n",
    "<li>Decidir entre um conjunto, pré-especificado e finito de rótulos, qual o sentido real da palavra.</li>\n",
    "<ul>"
   ]
  },
  {
   "cell_type": "markdown",
   "metadata": {
    "slideshow": {
     "slide_type": "slide"
    }
   },
   "source": [
    "## Usando Aprendizado de Máquina para o problema de WSD\n",
    "\n",
    "<p>A tarefa de WSD pode ser transformada em um problema de Classificação em Aprendizado de Máquina.</p>\n",
    "<p>Mas até que seja possível, aplicar métodos de Aprendizado de Máquina em WSD, alguns passos intermediários são necessários.</p>"
   ]
  },
  {
   "cell_type": "markdown",
   "metadata": {
    "slideshow": {
     "slide_type": "fragment"
    }
   },
   "source": [
    "Os dados de entrada em NLP, são voz ou texto. No entanto, os métodos de Classificação em Aprendizado de Máquina estão baseados em um dataset que contém <i>features</i>."
   ]
  },
  {
   "cell_type": "markdown",
   "metadata": {
    "slideshow": {
     "slide_type": "slide"
    }
   },
   "source": [
    "## Usando Aprendizado de Máquina para o problema de WSD\n",
    "\n",
    "<p>Com isso se torna necessário extrair vetores de <i>features</i> do texto.</p>\n",
    "<p>Em WSD, utiliza-se usualmente dois tipos de <i>features:</i></p>\n",
    "<ul>\n",
    "<li>\n",
    "    <strong>Collocational:</strong> \n",
    "    Features que contém informação de localização com respeito a palavra objeto de WSD.\n",
    "</li>\n",
    "<li>\n",
    "    <strong>Bag-of-words:</strong>\n",
    "    Features que ocorrem em qualquer lugar no texto que foi extraído.\n",
    "</li>\n",
    "</ul>"
   ]
  },
  {
   "cell_type": "markdown",
   "metadata": {
    "slideshow": {
     "slide_type": "slide"
    }
   },
   "source": [
    "## Aprendizado em WSD na Prática\n",
    "<h3>Estudo de caso: <i>line</i> </h3>\n",
    "\n",
    "Dataset escolhido já foi pré-processado e possui <i>collocational features</i>.\n",
    "<p>Veja a descrição do dataset <a href=\"data/wsd.pdf\">aqui</a></p>"
   ]
  },
  {
   "cell_type": "markdown",
   "metadata": {
    "slideshow": {
     "slide_type": "slide"
    }
   },
   "source": [
    "### Carregando os dados"
   ]
  },
  {
   "cell_type": "code",
   "execution_count": 98,
   "metadata": {
    "collapsed": false,
    "slideshow": {
     "slide_type": "skip"
    }
   },
   "outputs": [],
   "source": [
    "import pandas as pd\n",
    "from sklearn.model_selection import train_test_split\n",
    "from sklearn.tree import DecisionTreeClassifier\n",
    "from sklearn.model_selection import StratifiedKFold\n",
    "from sklearn.metrics import accuracy_score\n",
    "import numpy as np"
   ]
  },
  {
   "cell_type": "code",
   "execution_count": 99,
   "metadata": {
    "collapsed": false
   },
   "outputs": [
    {
     "name": "stdout",
     "output_type": "stream",
     "text": [
      "Features:  ['SENSE' 'A1' 'A2' 'A3' 'A4' 'A5' 'A6' 'A7' 'A8' 'A9' 'A10' 'A11' 'A12'\n",
      " 'A13' 'A14' 'A15' 'A16' 'A17' 'A18' 'A19' 'A20']\n",
      "\n",
      " Probabilidades a priori de cada sentido, a partir de todo dataset de treinamento:\n",
      "product      52.156640\n",
      "phone        10.783201\n",
      "text          9.988649\n",
      "cord          9.534620\n",
      "division      9.137344\n",
      "formation     8.399546\n",
      "Name: SENSE, dtype: float64\n"
     ]
    }
   ],
   "source": [
    "data = pd.read_csv(\"data/wsd.development.csv\", delim_whitespace=True)\n",
    "#Features\n",
    "print(\"Features: \", data.columns.values)\n",
    "\n",
    "#empirical probability\n",
    "print(\"\\n Probabilidades a priori de cada sentido, a partir de todo dataset de treinamento:\")\n",
    "print((data['SENSE'].value_counts().to_frame() / data.count() * 100)['SENSE'])"
   ]
  },
  {
   "cell_type": "markdown",
   "metadata": {
    "slideshow": {
     "slide_type": "slide"
    }
   },
   "source": [
    "### Separando os dados de desenvolvimento em treinamento e teste\n",
    "\n",
    "Seleciono apenas as features de A1 à A11, pois os demais precisariam de uma codificação de atributos categóricos para númericos, o que não faz parte do objetivo desta apresentação. Para mais informações veja <i><a href=\"https://pandas.pydata.org/pandas-docs/stable/generated/pandas.get_dummies.html\">Pandas.get_dummies</a></i> e <i><a href=\"http://scikit-learn.org/stable/modules/generated/sklearn.preprocessing.LabelEncoder.html\">Label Encoder</a></i>."
   ]
  },
  {
   "cell_type": "code",
   "execution_count": 100,
   "metadata": {
    "collapsed": false
   },
   "outputs": [],
   "source": [
    "train, test = train_test_split(data, test_size=0.33, random_state=42)\n",
    "\n",
    "X_train = train.ix[:, 1:12] \n",
    "y_train = train['SENSE']\n",
    "\n",
    "\n",
    "X_test = test.ix[:, 1:12]\n",
    "y_test = test['SENSE']"
   ]
  },
  {
   "cell_type": "markdown",
   "metadata": {
    "slideshow": {
     "slide_type": "slide"
    }
   },
   "source": [
    "### Treinando o modelo\n",
    "Para esta demonstração vamos usar o classificador baseado em Árvores de Decisão."
   ]
  },
  {
   "cell_type": "code",
   "execution_count": 101,
   "metadata": {
    "collapsed": false
   },
   "outputs": [
    {
     "name": "stdout",
     "output_type": "stream",
     "text": [
      "Score no conjunto de teste:  64.4024075666 %\n"
     ]
    }
   ],
   "source": [
    "dt = DecisionTreeClassifier()\n",
    "dt = dt.fit(X_train, y_train)\n",
    "print(\"Score no conjunto de teste: \", dt.score(X_test, y_test) * 100, \"%\")"
   ]
  },
  {
   "cell_type": "markdown",
   "metadata": {
    "slideshow": {
     "slide_type": "slide"
    }
   },
   "source": [
    "### Validação cruzada do modelo"
   ]
  },
  {
   "cell_type": "code",
   "execution_count": 109,
   "metadata": {
    "collapsed": false
   },
   "outputs": [],
   "source": [
    "acc_scores = []\n",
    "skf = StratifiedKFold(n_splits=10)\n",
    "for train_idx, test_idx in skf.split(X_train, y_train):\n",
    "    X_fold = X_train.values[train_idx]\n",
    "    y_fold = y_train.values[train_idx]\n",
    "    dt.fit(X_fold,y_fold)\n",
    "    y_pred = dt.predict(X_train.values[test_idx])\n",
    "    acc_scores.append(accuracy_score(y_train.values[test_idx], y_pred))\n",
    "\n",
    "acc_mean = np.array(acc_scores).mean()\n",
    "acc_deviation = np.array(acc_scores).std()"
   ]
  }
 ],
 "metadata": {
  "celltoolbar": "Slideshow",
  "kernelspec": {
   "display_name": "Python 3",
   "language": "python",
   "name": "python3"
  },
  "language_info": {
   "codemirror_mode": {
    "name": "ipython",
    "version": 3
   },
   "file_extension": ".py",
   "mimetype": "text/x-python",
   "name": "python",
   "nbconvert_exporter": "python",
   "pygments_lexer": "ipython3",
   "version": "3.6.0"
  }
 },
 "nbformat": 4,
 "nbformat_minor": 2
}
